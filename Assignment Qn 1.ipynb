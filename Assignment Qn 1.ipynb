{
 "cells": [
  {
   "cell_type": "markdown",
   "id": "83ed6b3d",
   "metadata": {},
   "source": [
    "##### 1.1\n",
    "\n",
    "Based on word2vec embeddings you have downloaded, use cosine similarity to find the most similar\n",
    "word to each of these words: (a) “student”; (b) “Apple”; (c) “apple”. Report the most similar word\n",
    "and its cosine similarity."
   ]
  },
  {
   "cell_type": "code",
   "execution_count": 1,
   "id": "3a2c21c7",
   "metadata": {},
   "outputs": [],
   "source": [
    "import gensim.downloader\n",
    "\n",
    "word2vec = gensim.downloader.load('word2vec-google-news-300')"
   ]
  },
  {
   "cell_type": "code",
   "execution_count": 2,
   "id": "f758a26f",
   "metadata": {},
   "outputs": [
    {
     "name": "stdout",
     "output_type": "stream",
     "text": [
      "Most similar word to 'student': students with cosine similarity score 0.7294867038726807\n",
      "Most similar word to 'Apple': Apple_AAPL with cosine similarity score 0.7456984519958496\n",
      "Most similar word to 'apple': apples with cosine similarity score 0.720359742641449\n"
     ]
    }
   ],
   "source": [
    "# Query the vector of any word by specifying the word as the key\n",
    "# most_similar function uses cosine similarity as documented\n",
    "\n",
    "similar_student = word2vec.most_similar('student', topn=1)\n",
    "print(\"Most similar word to 'student': {} with cosine similarity score {}\".format(similar_student[0][0], similar_student[0][1]))\n",
    "\n",
    "# (b) Find the most similar word to \"Apple\"\n",
    "similar_Apple = word2vec.most_similar('Apple', topn=1)\n",
    "print(\"Most similar word to 'Apple': {} with cosine similarity score {}\".format(similar_Apple[0][0], similar_Apple[0][1]))\n",
    "\n",
    "# (c) Find the most similar word to \"apple\"\n",
    "similar_apple = word2vec.most_similar('apple', topn=1)\n",
    "print(\"Most similar word to 'apple': {} with cosine similarity score {}\".format(similar_apple[0][0], similar_apple[0][1]))"
   ]
  },
  {
   "cell_type": "markdown",
   "id": "9e2516e5",
   "metadata": {},
   "source": [
    "##### 1.2a\n",
    "\n",
    "Describe the size (number of sentences) of the training, development and test file for CoNLL2003.\n",
    "Specify the complete set of all possible word labels based on the tagging scheme (IO, BIO,\n",
    "etc.) you chose.\n",
    "\n",
    "\n",
    "For the Named Entity Recognition task, the information present in numerical digits does not help in predicting the entity. So, we replace all the digits by 0. So, now the model can concentrate on more important alphabets"
   ]
  },
  {
   "cell_type": "code",
   "execution_count": 2,
   "id": "95245dd5",
   "metadata": {},
   "outputs": [],
   "source": [
    "import codecs\n",
    "import re\n",
    "\n",
    "def zero_digits(s):\n",
    "    # Replace every digit in a string by a zero.\n",
    "\n",
    "    return re.sub('\\d', '0', s)\n",
    "\n",
    "def load_sentences(path, zeros):\n",
    "    \n",
    "    # Load sentences. A line must contain at least a word and its tag.\n",
    "    # Sentences are separated by empty lines.\n",
    "    # Ignore lines with -DOCSTART- -X- -X- O only\n",
    "    \n",
    "    sentences = []\n",
    "    sentence = []\n",
    "    for line in codecs.open(path, 'r', 'utf8'):\n",
    "        line = zero_digits(line.rstrip()) if zeros else line.rstrip()\n",
    "        if not line:\n",
    "            if len(sentence) > 0:\n",
    "                if 'DOCSTART' not in sentence[0][0]:\n",
    "                    sentences.append(sentence)\n",
    "                sentence = []\n",
    "        else:\n",
    "            word = line.split()\n",
    "            assert len(word) >= 2\n",
    "            sentence.append(word)\n",
    "    if len(sentence) > 0:\n",
    "        if 'DOCSTART' not in sentence[0][0]:\n",
    "            sentences.append(sentence)\n",
    "    return sentences\n",
    "\n",
    "train = load_sentences('./dataset/eng.train', True)\n",
    "testa = load_sentences('./dataset/eng.testa', True)\n",
    "testb = load_sentences('./dataset/eng.testb', True)"
   ]
  },
  {
   "cell_type": "code",
   "execution_count": 3,
   "id": "fd6e0673",
   "metadata": {},
   "outputs": [],
   "source": [
    "def get_sentence(data):\n",
    "    sentences, ner = [], []\n",
    "    for sentence in data:\n",
    "        current_sentence = []\n",
    "        current_ner = []\n",
    "        \n",
    "        for line in sentence:\n",
    "            current_sentence.append(line[0])\n",
    "            current_ner.append(line[-1])\n",
    "            \n",
    "        sentences.append(current_sentence)\n",
    "        ner.append(current_ner)\n",
    "        \n",
    "    return sentences, ner\n",
    "\n",
    "train_sentence, train_parts = get_sentence(train)\n",
    "testa_sentence, testa_parts = get_sentence(testa)\n",
    "testb_sentence, testb_parts = get_sentence(testb)"
   ]
  },
  {
   "cell_type": "code",
   "execution_count": 4,
   "id": "979e47c9",
   "metadata": {},
   "outputs": [
    {
     "name": "stdout",
     "output_type": "stream",
     "text": [
      "----- Number of sentences -----\n",
      "Training: 14041\n",
      "Development: 3250\n",
      "Testing: 3453\n"
     ]
    }
   ],
   "source": [
    "print(\"----- Number of sentences -----\")\n",
    "print(\"Training:\", len(train_sentence))\n",
    "print(\"Development:\", len(testa_sentence))\n",
    "print(\"Testing:\", len(testb_sentence))"
   ]
  },
  {
   "cell_type": "code",
   "execution_count": 5,
   "id": "40840928",
   "metadata": {},
   "outputs": [
    {
     "data": {
      "text/plain": [
       "({'B-LOC', 'B-MISC', 'B-ORG', 'I-LOC', 'I-MISC', 'I-ORG', 'I-PER', 'O'},\n",
       " {'B-MISC', 'I-LOC', 'I-MISC', 'I-ORG', 'I-PER', 'O'},\n",
       " {'B-LOC', 'B-MISC', 'B-ORG', 'I-LOC', 'I-MISC', 'I-ORG', 'I-PER', 'O'})"
      ]
     },
     "execution_count": 5,
     "metadata": {},
     "output_type": "execute_result"
    }
   ],
   "source": [
    "train_tags = [tag for sublist in train_parts for tag in sublist]\n",
    "testa_tags = [tag for sublist in testa_parts for tag in sublist]\n",
    "testb_tags = [tag for sublist in testb_parts for tag in sublist]\n",
    "set(train_tags), set(testa_tags), set(testb_tags)"
   ]
  },
  {
   "cell_type": "markdown",
   "id": "94b8f52e",
   "metadata": {},
   "source": [
    "Our chosen tagging scheme is IOB1\n",
    "\n",
    "- I-ORG: Inside of an organization's name (for multi-word names).\n",
    "- O: Outside of any named entity (non-entity word).\n",
    "- I-MISC: Inside of a miscellaneous entity name (for multi-word names).\n",
    "- I-PER: Inside of a person's name (for multi-word names).\n",
    "- I-LOC: Inside of a location's name (for multi-word names).\n",
    "- B-LOC: Beginning of a location's name.\n",
    "- B-MISC: Beginning of a miscellaneous entity name.\n",
    "- B-ORG: Beginning of an organization's name.\n",
    "\n"
   ]
  },
  {
   "cell_type": "markdown",
   "id": "4d820d87",
   "metadata": {},
   "source": [
    "##### 1.2b\n",
    "\n",
    "Choose an example sentence from the training set of CoNLL2003 that has at least two named\n",
    "entities with more than one word. Explain how to form complete named entities from the label\n",
    "for each word, and list all the named entities in this sentence."
   ]
  },
  {
   "cell_type": "code",
   "execution_count": 8,
   "id": "6f4350e2",
   "metadata": {},
   "outputs": [
    {
     "name": "stdout",
     "output_type": "stream",
     "text": [
      "108th Entry in the training set is: \n",
      "\n",
      "Sentence: Tension has mounted since Israeli Prime Minister Benjamin Netanyahu took office in June vowing to retain the Golan Heights Israel captured from Syria in the 0000 Middle East war .\n",
      "\n",
      "Labels: O O O O I-MISC O O I-PER I-PER O O O O O O O O I-LOC I-LOC B-LOC O O I-LOC O O O I-LOC I-LOC O O\n"
     ]
    }
   ],
   "source": [
    "print(\"108th Entry in the training set is: \\n\")\n",
    "print(\"Sentence:\",' '.join(train_sentence[107]))\n",
    "print()\n",
    "print(\"Labels:\", ' '.join(train_parts[107]))"
   ]
  },
  {
   "cell_type": "markdown",
   "id": "b1c7c1e2",
   "metadata": {},
   "source": [
    "<b>The sentence above contains the named entities \"Benjamin Netanyahu\", \"Golan Heights\", \"Israel\", \"Syria\", \"Middle East\"</b>\n",
    "\n",
    "Named entities with more than 1 word can be identified by consecutive 'I-TYPE' tags, where TYPE is one of MISC, LOC, PER, ORG.\n",
    "The chunk for the multi-word named entity terminates when the next tag is not of the same tag.\n",
    "\n",
    "For instance, in the example sentence, we can identify *Benjamin Netanyahu* as a named entity because the words *Benjamin* and *Netanyahu* are both tagged with I-PER and the next word *took* is tagged with O.\n",
    "\n",
    "We can also identify *Golan Heights* as a named entity because the words *Golan* and *Heights* are both tagged with I-LOC but the next word *Israel* is tagged with B-LOC.\n",
    "\n",
    "As an additional note, we identify *Israel* as a named entity because the next word *captured* is tagged with O. If instead, the following word were something that formed a named entity with *Israel* (eg. Radio), then the tag for that word would be I-LOC."
   ]
  },
  {
   "cell_type": "markdown",
   "id": "e24ea71f",
   "metadata": {},
   "source": [
    "##### 1.3a\n",
    "\n",
    "Discuss how you deal with new words in the training set which are not found in the pretrained\n",
    "dictionary. Likewise, how do you deal with new words in the test set which are not found in\n",
    "either the pretrained dictionary or the training set? Show the corresponding code snippet."
   ]
  },
  {
   "cell_type": "code",
   "execution_count": 9,
   "id": "99076d37",
   "metadata": {},
   "outputs": [],
   "source": [
    "import keras\n",
    "\n",
    "from keras.models import *\n",
    "from keras.layers import *\n",
    "from keras.callbacks import *\n",
    "from keras.initializers import Constant\n",
    "\n",
    "from tensorflow.keras.preprocessing.sequence import pad_sequences\n",
    "from keras.utils import to_categorical\n",
    "from tensorflow.keras.optimizers import RMSprop, Adam\n",
    "from tensorflow.keras.optimizers.schedules import PiecewiseConstantDecay\n",
    "\n",
    "from seqeval.metrics import f1_score, classification_report\n",
    "\n",
    "import seaborn as sns\n",
    "import numpy as np\n",
    "import pandas as pd\n",
    "\n",
    "from time import perf_counter"
   ]
  },
  {
   "cell_type": "code",
   "execution_count": 10,
   "id": "4a4ec449",
   "metadata": {},
   "outputs": [],
   "source": [
    "labelSet = set()\n",
    "wordSet = set()\n",
    "\n",
    "for data in train_sentence:\n",
    "    for labeled_text in data:\n",
    "        wordSet.add(labeled_text)\n",
    "\n",
    "for data in train_parts:\n",
    "    for labeled_text in data:\n",
    "        labelSet.add(labeled_text)"
   ]
  },
  {
   "cell_type": "code",
   "execution_count": 11,
   "id": "ebce088f",
   "metadata": {},
   "outputs": [],
   "source": [
    "# Sort the set to ensure '0' is assigned to 0\n",
    "sorted_labels = sorted(list(labelSet), key=len)\n",
    "# Create mapping for labels\n",
    "label2Idx = {}\n",
    "for label in sorted_labels:\n",
    "    label2Idx[label] = len(label2Idx)\n",
    "idx2Label = {v: k for k, v in label2Idx.items()}\n",
    "\n",
    "# Create mapping for words\n",
    "word2Idx = {}\n",
    "if len(word2Idx) == 0:\n",
    "    word2Idx[\"PADDING_TOKEN\"] = len(word2Idx)\n",
    "    word2Idx[\"UNKNOWN_TOKEN\"] = len(word2Idx)\n",
    "for word in wordSet:\n",
    "    word2Idx[word] = len(word2Idx)"
   ]
  },
  {
   "cell_type": "code",
   "execution_count": 12,
   "id": "ebe6742a",
   "metadata": {},
   "outputs": [],
   "source": [
    "# Converting our words into its indexes\n",
    "def createMatrices(sentence, labels, word2Idx, label2Idx):\n",
    "    sentences = []\n",
    "    final_labels = []\n",
    "    \n",
    "    for text in sentence:\n",
    "        wordIndices = []\n",
    "        \n",
    "        for word in text:\n",
    "            if word in word2Idx:\n",
    "                wordIdx = word2Idx[word]\n",
    "            else:\n",
    "                wordIdx = word2Idx[\"UNKNOWN_TOKEN\"]\n",
    "                \n",
    "            wordIndices.append(wordIdx)\n",
    "        sentences.append(wordIndices)\n",
    "        \n",
    "    for label in labels:\n",
    "        labelIndices = []\n",
    "        \n",
    "        for lab in label:\n",
    "            labelIndices.append(label2Idx[lab])\n",
    "        final_labels.append(labelIndices)\n",
    "        \n",
    "    return sentences, final_labels"
   ]
  },
  {
   "cell_type": "code",
   "execution_count": 13,
   "id": "688b95ff",
   "metadata": {},
   "outputs": [],
   "source": [
    "train_sentences, train_labels = createMatrices(train_sentence, train_parts, word2Idx, label2Idx)\n",
    "valid_sentences, valid_labels = createMatrices(testa_sentence, testa_parts, word2Idx, label2Idx)\n",
    "test_sentences, test_labels = createMatrices(testb_sentence, testb_parts, word2Idx, label2Idx)"
   ]
  },
  {
   "cell_type": "code",
   "execution_count": 14,
   "id": "63f23ad2",
   "metadata": {
    "scrolled": false
   },
   "outputs": [
    {
     "name": "stdout",
     "output_type": "stream",
     "text": [
      "\n",
      "Max Sentence Length: 113\n",
      "Mean Sentence Length: 14\n",
      "90% Quartile Length: 37.0\n",
      "\n"
     ]
    },
    {
     "data": {
      "image/png": "[encoded data removed]",
      "text/plain": [
       "<Figure size 640x480 with 1 Axes>"
      ]
     },
     "metadata": {},
     "output_type": "display_data"
    }
   ],
   "source": [
    "sentence_lengths = [len(sentence) for sentence in train_sentences]\n",
    "\n",
    "ax = sns.histplot(sentence_lengths)\n",
    "ax.set(xlabel='Sentence Length',\n",
    "       ylabel='Total Sentences',\n",
    "       title='Distribution of sentence lengths')\n",
    "\n",
    "print(f\"\"\"\n",
    "Max Sentence Length: {max(sentence_lengths)}\n",
    "Mean Sentence Length: {sum(sentence_lengths)//len(sentence_lengths)}\n",
    "90% Quartile Length: {np.quantile(sentence_lengths, 0.95)}\n",
    "\"\"\")"
   ]
  },
  {
   "cell_type": "code",
   "execution_count": 15,
   "id": "4e22edc6",
   "metadata": {},
   "outputs": [
    {
     "name": "stdout",
     "output_type": "stream",
     "text": [
      "words missed: 2446\n"
     ]
    }
   ],
   "source": [
    "embedding_matrix = np.zeros((len(word2Idx), word2vec.vector_size))\n",
    "miss_counter = 0\n",
    "for word, i in word2Idx.items():\n",
    "    print\n",
    "    try:\n",
    "        embedding_vector = word2vec[word]\n",
    "        if embedding_vector is not None:\n",
    "            embedding_matrix[i] = embedding_vector\n",
    "    except KeyError:\n",
    "        miss_counter += 1\n",
    "        continue\n",
    "        \n",
    "print(f'words missed: {miss_counter}')"
   ]
  },
  {
   "cell_type": "code",
   "execution_count": 16,
   "id": "39fb6b0b",
   "metadata": {},
   "outputs": [],
   "source": [
    "def padding(sentences, labels, max_len, padding='post'):\n",
    "    padded_sentences = pad_sequences(sentences, max_len, padding='post')\n",
    "    padded_labels = pad_sequences(labels, max_len, padding='post')\n",
    "    return padded_sentences, padded_labels\n",
    "\n",
    "def get_train_val_test_data(train_sentences, valid_sentences, test_sentences, train_labels, valid_labels, test_labels, seq_len=50):\n",
    "    train_features, train_labels = padding(train_sentences, train_labels, seq_len, padding='post' )\n",
    "    valid_features, valid_labels = padding(valid_sentences, valid_labels, seq_len, padding='post' )\n",
    "    test_features, test_labels = padding(test_sentences, test_labels, seq_len, padding='post' )\n",
    "    \n",
    "    train_label_encoded = [to_categorical(labels, num_classes=len(idx2Label)) for labels in train_labels]\n",
    "    valid_label_encoded = [to_categorical(labels, num_classes=len(idx2Label)) for labels in valid_labels]\n",
    "    test_label_encoded = [to_categorical(labels, num_classes=len(idx2Label)) for labels in test_labels]\n",
    "    \n",
    "    return train_features, train_label_encoded, valid_features, valid_label_encoded, test_features, test_label_encoded"
   ]
  },
  {
   "cell_type": "code",
   "execution_count": 17,
   "id": "0522ed1f",
   "metadata": {},
   "outputs": [],
   "source": [
    "# We set the max_seq_len to be 50 as a good compromise between training times\n",
    "# and sentence representation. As observed in the plot above, 95% of sentences\n",
    "# actually have lengths below 37.\n",
    "max_seq_len = 50"
   ]
  },
  {
   "cell_type": "code",
   "execution_count": 18,
   "id": "de9a9bac",
   "metadata": {},
   "outputs": [],
   "source": [
    "(train_features, train_label_encoded, valid_features, \n",
    " valid_label_encoded, test_features, test_label_encoded) = get_train_val_test_data(train_sentences, \n",
    "                                                                                    valid_sentences, \n",
    "                                                                                    test_sentences,\n",
    "                                                                                    train_labels, \n",
    "                                                                                    valid_labels, \n",
    "                                                                                    test_labels, \n",
    "                                                                                    seq_len=max_seq_len)\n"
   ]
  },
  {
   "cell_type": "markdown",
   "id": "91cdc6b6",
   "metadata": {},
   "source": [
    "##### 1.3b\n",
    "\n",
    "\n",
    "Describe what neural network you used to produce the final vector representation of each\n",
    "word and what are the mathematical functions used for the forward computation (i.e., from\n",
    "the pretrained word vectors to the final label of each word). Give the detailed setting of the\n",
    "network including which parameters are being updated, what are their sizes, and what is the\n",
    "length of the final vector representation of each word to be fed to the softmax classifier."
   ]
  },
  {
   "cell_type": "code",
   "execution_count": 19,
   "id": "77cea7e9",
   "metadata": {},
   "outputs": [],
   "source": [
    "def cal_f1(model, feautures, labels, labels_encoded):\n",
    "    '''\n",
    "    Computes the SeqEval F1 Score\n",
    "    '''\n",
    "    pred = model.predict(feautures, verbose=False)\n",
    "    y_pred = []\n",
    "    y_true = []\n",
    "\n",
    "    reverse_mapping = dict(zip(label2Idx.values(), label2Idx.keys()))\n",
    "    for i in range(len(labels)):\n",
    "        gt = [reverse_mapping[encoded] for encoded in np.argmax(labels_encoded[i], axis=1)]\n",
    "        pd = [reverse_mapping[encoded] for encoded in np.argmax(pred[i], axis=1)]\n",
    "\n",
    "        assert len(gt) == len(pd), f\"{i} index unequal\"\n",
    "\n",
    "        y_true.append(gt)\n",
    "\n",
    "        y_pred.append(pd)\n",
    "    \n",
    "    \n",
    "    f1 = f1_score(y_true, y_pred)\n",
    "    return f1"
   ]
  },
  {
   "cell_type": "code",
   "execution_count": 24,
   "id": "a3d5a3f0",
   "metadata": {},
   "outputs": [],
   "source": [
    "def create_model(max_seq_len, n_voc, embedding_matrix, num_classes, hidden1=64, hidden2=32):\n",
    "    '''\n",
    "    Function to generate our Model. We chose a Bi-Directional LSTM with multiple layers. A non-linear Dense Layer is added before the output layer to smoothen the values\n",
    "    '''\n",
    "    optimizer = Adam(learning_rate=0.001, beta_1=0.95, beta_2=0.90)\n",
    "\n",
    "    \n",
    "    word_input = Input(shape=(max_seq_len,))\n",
    "    #embedding layer\n",
    "    word_emb = Embedding(n_voc,\n",
    "                        300,\n",
    "                        weights=[embedding_matrix],\n",
    "                        trainable=False,\n",
    "                        mask_zero=True\n",
    "                        )(word_input)\n",
    "    \n",
    "    # We set recurrent dropout to 0 to use cuDNN kernels for faster training\n",
    "    blstm_out_1 = Bidirectional(LSTM(units=hidden1, \n",
    "                                     return_sequences=True, \n",
    "                                     recurrent_dropout=0.0, \n",
    "                                     dropout=0.5\n",
    "                                     ))(word_emb)\n",
    "    blstm_out_1 = BatchNormalization()(blstm_out_1)\n",
    "    \n",
    "    blstm_out_2 = Bidirectional(LSTM(units=hidden2, \n",
    "                                     return_sequences=True, \n",
    "                                     recurrent_dropout=0.0, \n",
    "                                     dropout=0.2\n",
    "                                     ))(blstm_out_1)\n",
    "    blstm_out_2 = BatchNormalization()(blstm_out_2)\n",
    "    \n",
    "    dense_out = Dense(64, activation=\"relu\")(blstm_out_2)\n",
    "    dense_out = Dropout(0.5)(dense_out)  # Optional: Dropout for regularization\n",
    "    \n",
    "    out = TimeDistributed(Dense(num_classes, activation=\"softmax\"))(dense_out)\n",
    "\n",
    "    model = Model(word_input, out)\n",
    "\n",
    "    model.compile(optimizer=optimizer, loss=\"categorical_crossentropy\")\n",
    "\n",
    "    \n",
    "    return model\n",
    "\n"
   ]
  },
  {
   "cell_type": "code",
   "execution_count": 25,
   "id": "db16f514",
   "metadata": {},
   "outputs": [],
   "source": [
    "model = create_model(max_seq_len, len(word2Idx), embedding_matrix, len(label2Idx), 128, 64)"
   ]
  },
  {
   "cell_type": "code",
   "execution_count": 26,
   "id": "b5395e19",
   "metadata": {},
   "outputs": [],
   "source": [
    "epochs = 50\n",
    "patience_limit = 10"
   ]
  },
  {
   "cell_type": "code",
   "execution_count": 27,
   "id": "cdb32184",
   "metadata": {
    "scrolled": true
   },
   "outputs": [
    {
     "name": "stdout",
     "output_type": "stream",
     "text": [
      "220/220 [==============================] - 105s 402ms/step - loss: 0.4415 - val_loss: 0.3905\n",
      "Epoch 1/50: Train F1: 0.24201646231087123   Val F1: 0.2074854134054362\n"
     ]
    },
    {
     "name": "stderr",
     "output_type": "stream",
     "text": [
      "C:\\Users\\yihao\\anaconda3\\envs\\tf_gpu\\lib\\site-packages\\keras\\src\\engine\\training.py:3079: UserWarning: You are saving your model as an HDF5 file via `model.save()`. This file format is considered legacy. We recommend using instead the native Keras format, e.g. `model.save('my_model.keras')`.\n",
      "  saving_api.save_model(\n"
     ]
    },
    {
     "name": "stdout",
     "output_type": "stream",
     "text": [
      "220/220 [==============================] - 83s 376ms/step - loss: 0.1467 - val_loss: 0.1809\n",
      "Epoch 2/50: Train F1: 0.8349210491974423   Val F1: 0.7313886077114199\n",
      "220/220 [==============================] - 93s 422ms/step - loss: 0.1186 - val_loss: 0.1727\n",
      "Epoch 3/50: Train F1: 0.8742719074944989   Val F1: 0.7757851615839783\n",
      "220/220 [==============================] - 92s 419ms/step - loss: 0.1032 - val_loss: 0.1472\n",
      "Epoch 4/50: Train F1: 0.8903832932279133   Val F1: 0.791470054446461\n",
      "220/220 [==============================] - 93s 422ms/step - loss: 0.0928 - val_loss: 0.1507\n",
      "Epoch 5/50: Train F1: 0.9009133504631529   Val F1: 0.8105253573704816\n",
      "220/220 [==============================] - 93s 424ms/step - loss: 0.0842 - val_loss: 0.1418\n",
      "Epoch 6/50: Train F1: 0.9129937158528949   Val F1: 0.8126196772134586\n",
      "220/220 [==============================] - 103s 470ms/step - loss: 0.0784 - val_loss: 0.1432\n",
      "Epoch 7/50: Train F1: 0.9217755335448092   Val F1: 0.8155304411228581\n",
      "220/220 [==============================] - 103s 467ms/step - loss: 0.0719 - val_loss: 0.1615\n",
      "Epoch 8/50: Train F1: 0.9274650466403844   Val F1: 0.8156606851549757\n",
      "220/220 [==============================] - 103s 470ms/step - loss: 0.0665 - val_loss: 0.1435\n",
      "Epoch 9/50: Train F1: 0.9361922206658766   Val F1: 0.827037773359841\n",
      "220/220 [==============================] - 102s 465ms/step - loss: 0.0638 - val_loss: 0.1512\n",
      "Epoch 10/50: Train F1: 0.9365981823663694   Val F1: 0.8319335320148109\n",
      "220/220 [==============================] - 117s 534ms/step - loss: 0.0599 - val_loss: 0.1459\n",
      "Epoch 11/50: Train F1: 0.9433872809947632   Val F1: 0.8272677892449755\n",
      "220/220 [==============================] - 116s 525ms/step - loss: 0.0565 - val_loss: 0.1595\n",
      "Epoch 12/50: Train F1: 0.947297997237569   Val F1: 0.8224535989135355\n",
      "220/220 [==============================] - 116s 525ms/step - loss: 0.0526 - val_loss: 0.1553\n",
      "Epoch 13/50: Train F1: 0.9510173323285608   Val F1: 0.830802408122922\n",
      "220/220 [==============================] - 116s 526ms/step - loss: 0.0499 - val_loss: 0.1608\n",
      "Epoch 14/50: Train F1: 0.9550062551227297   Val F1: 0.8235294117647058\n",
      "220/220 [==============================] - 112s 510ms/step - loss: 0.0487 - val_loss: 0.1373\n",
      "Epoch 15/50: Train F1: 0.9604256877571685   Val F1: 0.8439160587228677\n",
      "220/220 [==============================] - 120s 545ms/step - loss: 0.0456 - val_loss: 0.1481\n",
      "Epoch 16/50: Train F1: 0.9633219185457993   Val F1: 0.8423232778027916\n",
      "220/220 [==============================] - 124s 565ms/step - loss: 0.0447 - val_loss: 0.1513\n",
      "Epoch 17/50: Train F1: 0.9666006714298011   Val F1: 0.8449716904826099\n",
      "220/220 [==============================] - 128s 583ms/step - loss: 0.0430 - val_loss: 0.1469\n",
      "Epoch 18/50: Train F1: 0.9673261584069086   Val F1: 0.8386404293381036\n",
      "220/220 [==============================] - 139s 634ms/step - loss: 0.0403 - val_loss: 0.1665\n",
      "Epoch 19/50: Train F1: 0.969566712517194   Val F1: 0.8463893390959841\n",
      "220/220 [==============================] - 128s 583ms/step - loss: 0.0395 - val_loss: 0.1684\n",
      "Epoch 20/50: Train F1: 0.9708817204301076   Val F1: 0.8437275985663082\n",
      "220/220 [==============================] - 118s 538ms/step - loss: 0.0383 - val_loss: 0.1661\n",
      "Epoch 21/50: Train F1: 0.9725341980372367   Val F1: 0.845788955517766\n",
      "220/220 [==============================] - 119s 541ms/step - loss: 0.0367 - val_loss: 0.1642\n",
      "Epoch 22/50: Train F1: 0.9741242209327315   Val F1: 0.841812970261555\n",
      "220/220 [==============================] - 113s 513ms/step - loss: 0.0376 - val_loss: 0.1819\n",
      "Epoch 23/50: Train F1: 0.9758317235458253   Val F1: 0.8421241156980389\n",
      "220/220 [==============================] - 108s 491ms/step - loss: 0.0359 - val_loss: 0.1707\n",
      "Epoch 24/50: Train F1: 0.9765962476628485   Val F1: 0.8422090729783037\n",
      "220/220 [==============================] - 112s 509ms/step - loss: 0.0332 - val_loss: 0.1749\n",
      "Epoch 25/50: Train F1: 0.9783536781584536   Val F1: 0.8490227720996952\n",
      "220/220 [==============================] - 113s 515ms/step - loss: 0.0331 - val_loss: 0.1754\n",
      "Epoch 26/50: Train F1: 0.9782562170954072   Val F1: 0.8399821508255244\n",
      "220/220 [==============================] - 110s 500ms/step - loss: 0.0309 - val_loss: 0.2013\n",
      "Epoch 27/50: Train F1: 0.980725477570294   Val F1: 0.8458426966292134\n",
      "220/220 [==============================] - 111s 504ms/step - loss: 0.0311 - val_loss: 0.1880\n",
      "Epoch 28/50: Train F1: 0.9804679115690061   Val F1: 0.8510905663764473\n",
      "220/220 [==============================] - 114s 518ms/step - loss: 0.0294 - val_loss: 0.1779\n",
      "Epoch 29/50: Train F1: 0.9818096216401302   Val F1: 0.8445235975066785\n",
      "220/220 [==============================] - 116s 525ms/step - loss: 0.0276 - val_loss: 0.2014\n",
      "Epoch 30/50: Train F1: 0.9827977234798237   Val F1: 0.8434635578891163\n",
      "220/220 [==============================] - 119s 540ms/step - loss: 0.0285 - val_loss: 0.2125\n",
      "Epoch 31/50: Train F1: 0.9823365487674168   Val F1: 0.8436188264713762\n",
      "220/220 [==============================] - 117s 530ms/step - loss: 0.0272 - val_loss: 0.2058\n",
      "Epoch 32/50: Train F1: 0.9854315969622419   Val F1: 0.8460098082924654\n",
      "220/220 [==============================] - 122s 556ms/step - loss: 0.0276 - val_loss: 0.1890\n",
      "Epoch 33/50: Train F1: 0.9861220998610071   Val F1: 0.8486038005174412\n",
      "220/220 [==============================] - 122s 553ms/step - loss: 0.0269 - val_loss: 0.2190\n",
      "Epoch 34/50: Train F1: 0.9849244078975545   Val F1: 0.8472122944960687\n",
      "220/220 [==============================] - 121s 548ms/step - loss: 0.0260 - val_loss: 0.1808\n",
      "Epoch 35/50: Train F1: 0.9858274459430529   Val F1: 0.8491680085882986\n",
      "220/220 [==============================] - 125s 569ms/step - loss: 0.0259 - val_loss: 0.2153\n",
      "Epoch 36/50: Train F1: 0.9868288608570879   Val F1: 0.8493862557118539\n",
      "220/220 [==============================] - 125s 570ms/step - loss: 0.0248 - val_loss: 0.2007\n",
      "Epoch 37/50: Train F1: 0.988067234078953   Val F1: 0.8527864467231386\n",
      "220/220 [==============================] - 126s 573ms/step - loss: 0.0235 - val_loss: 0.2080\n",
      "Epoch 38/50: Train F1: 0.9876252965440595   Val F1: 0.8425942469179917\n",
      "220/220 [==============================] - 128s 580ms/step - loss: 0.0240 - val_loss: 0.2137\n",
      "Epoch 39/50: Train F1: 0.9882453515708485   Val F1: 0.8467583497053045\n",
      "220/220 [==============================] - 132s 600ms/step - loss: 0.0234 - val_loss: 0.2051\n",
      "Epoch 40/50: Train F1: 0.9869996797950688   Val F1: 0.8510148010280953\n",
      "220/220 [==============================] - 141s 640ms/step - loss: 0.0225 - val_loss: 0.2079\n",
      "Epoch 41/50: Train F1: 0.990839792454039   Val F1: 0.8504847460642176\n",
      "220/220 [==============================] - 144s 653ms/step - loss: 0.0223 - val_loss: 0.2224\n",
      "Epoch 42/50: Train F1: 0.9896374164049312   Val F1: 0.8505459101485592\n",
      "220/220 [==============================] - 138s 628ms/step - loss: 0.0227 - val_loss: 0.2335\n",
      "Epoch 43/50: Train F1: 0.9906877402819309   Val F1: 0.8453645043276523\n",
      "220/220 [==============================] - 151s 687ms/step - loss: 0.0213 - val_loss: 0.2384\n",
      "Epoch 44/50: Train F1: 0.9909898368776155   Val F1: 0.8440170940170941\n",
      "220/220 [==============================] - 154s 700ms/step - loss: 0.0218 - val_loss: 0.2173\n",
      "Epoch 45/50: Train F1: 0.9905265853034053   Val F1: 0.849252013808976\n",
      "220/220 [==============================] - 154s 699ms/step - loss: 0.0206 - val_loss: 0.2324\n",
      "Epoch 46/50: Train F1: 0.9913759979507321   Val F1: 0.8487978628673197\n",
      "220/220 [==============================] - 152s 690ms/step - loss: 0.0207 - val_loss: 0.2010\n",
      "Epoch 47/50: Train F1: 0.9919129414275045   Val F1: 0.8521878335112059\n",
      "Ending Early\n"
     ]
    }
   ],
   "source": [
    "histories = {\n",
    "    'epochs': [],\n",
    "    'loss': [],\n",
    "    'val_loss': [],\n",
    "    'train_f1': [],\n",
    "    'val_f1': []\n",
    "}\n",
    "\n",
    "f1_max = -1\n",
    "patience = 0\n",
    "\n",
    "t1 = perf_counter()\n",
    "\n",
    "# Training Loop\n",
    "for epoch in range(epochs):\n",
    "    history = model.fit(train_features, np.array(train_label_encoded),\n",
    "                        epochs=1, batch_size=64,\n",
    "                        validation_data=(valid_features, np.array(valid_label_encoded)),\n",
    "                       )\n",
    "    \n",
    "    \n",
    "    train_f1 = cal_f1(model, train_features, train_labels, train_label_encoded)\n",
    "    val_f1 = cal_f1(model, valid_features, valid_labels, valid_label_encoded)\n",
    "    \n",
    "    histories['epochs'].append(epoch+1)\n",
    "    histories['loss'].append(history.history['loss'][0])\n",
    "    histories['val_loss'].append(history.history['val_loss'][0])\n",
    "    histories['train_f1'].append(train_f1)\n",
    "    histories['val_f1'].append(val_f1)\n",
    "    \n",
    "    print(f\"Epoch {epoch+1}/50: \", end=\"\")\n",
    "    print(f\"Train F1: {train_f1}   Val F1: {val_f1}\")\n",
    "    \n",
    "    # Save the model with the best development F1 Score\n",
    "    if val_f1 > f1_max:\n",
    "        model.save(\"./model/best_model.h5\")\n",
    "        f1_max = val_f1\n",
    "        patience = 0\n",
    "    else:\n",
    "        patience += 1\n",
    "    \n",
    "    if patience == patience_limit:\n",
    "        print(\"Ending Early\")\n",
    "        break\n",
    "        \n",
    "t2 = perf_counter()"
   ]
  },
  {
   "cell_type": "markdown",
   "id": "bc0e1bfc",
   "metadata": {},
   "source": [
    "##### 1.3c\n",
    "\n",
    "\n",
    "Report how many epochs you used for training, as well as the running time."
   ]
  },
  {
   "cell_type": "code",
   "execution_count": 28,
   "id": "83294dc9",
   "metadata": {},
   "outputs": [
    {
     "name": "stdout",
     "output_type": "stream",
     "text": [
      "\n",
      "Total Epochs: 47\n",
      "Total Training Time: 6879.946sec\n",
      "\n"
     ]
    }
   ],
   "source": [
    "print(f\"\"\"\n",
    "Total Epochs: {epoch+1}\n",
    "Total Training Time: {round(t2-t1, 3)}sec\n",
    "\"\"\")\n",
    "\n",
    "# We will report the number of epochs used in training after EarlyStopper triggered. Although the original intended epoch value was 50"
   ]
  },
  {
   "cell_type": "markdown",
   "id": "01b8c616",
   "metadata": {},
   "source": [
    "##### 1.3d\n",
    "\n",
    "\n",
    "Report the f1 score on the test set, as well as the f1 score on the development set for each\n",
    "epoch during training."
   ]
  },
  {
   "cell_type": "markdown",
   "id": "650ae6f6",
   "metadata": {},
   "source": [
    "##### Test Set"
   ]
  },
  {
   "cell_type": "code",
   "execution_count": 38,
   "id": "f1668589",
   "metadata": {},
   "outputs": [
    {
     "name": "stdout",
     "output_type": "stream",
     "text": [
      "108/108 [==============================] - 8s 28ms/step\n"
     ]
    }
   ],
   "source": [
    "model = keras.models.load_model('./model/best_model.h5')\n",
    "\n",
    "pred = model.predict(test_features)"
   ]
  },
  {
   "cell_type": "code",
   "execution_count": 38,
   "id": "258ebff8",
   "metadata": {},
   "outputs": [
    {
     "name": "stdout",
     "output_type": "stream",
     "text": [
      "108/108 [==============================] - 8s 28ms/step\n"
     ]
    }
   ],
   "source": [
    "model = keras.models.load_model('./model/best_model.h5')\n",
    "\n",
    "pred = model.predict(test_features)"
   ]
  },
  {
   "cell_type": "code",
   "execution_count": 39,
   "id": "1920bf70",
   "metadata": {},
   "outputs": [],
   "source": [
    "y_pred = []\n",
    "y_true = []\n",
    "\n",
    "reverse_mapping = dict(zip(label2Idx.values(), label2Idx.keys()))\n",
    "\n",
    "for i in range(len(test_labels)):\n",
    "    gt = [reverse_mapping[encoded] for encoded in np.argmax(test_label_encoded[i], axis=1)]\n",
    "    pd = [reverse_mapping[encoded] for encoded in np.argmax(pred[i], axis=1)]\n",
    "    \n",
    "    assert len(gt) == len(pd), f\"{i} index unequal\"\n",
    "    \n",
    "    y_true.append(gt)\n",
    "    \n",
    "    y_pred.append(pd)"
   ]
  },
  {
   "cell_type": "code",
   "execution_count": 40,
   "id": "53579677",
   "metadata": {},
   "outputs": [
    {
     "data": {
      "text/plain": [
       "0.7600075886928476"
      ]
     },
     "execution_count": 40,
     "metadata": {},
     "output_type": "execute_result"
    }
   ],
   "source": [
    "# Display the seqeval F1 score on the test set\n",
    "f1_score(y_true, y_pred)"
   ]
  },
  {
   "cell_type": "code",
   "execution_count": 41,
   "id": "001a3075",
   "metadata": {},
   "outputs": [
    {
     "name": "stdout",
     "output_type": "stream",
     "text": [
      "              precision    recall  f1-score   support\n",
      "\n",
      "         LOC       0.87      0.83      0.85      1653\n",
      "        MISC       0.75      0.68      0.71       701\n",
      "         ORG       0.79      0.67      0.72      1657\n",
      "         PER       0.78      0.67      0.72      1580\n",
      "\n",
      "   micro avg       0.81      0.72      0.76      5591\n",
      "   macro avg       0.80      0.71      0.75      5591\n",
      "weighted avg       0.81      0.72      0.76      5591\n",
      "\n"
     ]
    }
   ],
   "source": [
    "print(classification_report(y_true, y_pred))"
   ]
  },
  {
   "cell_type": "markdown",
   "id": "b6da4fb6",
   "metadata": {},
   "source": [
    "##### Development set training results at each Epoch (F1)"
   ]
  },
  {
   "cell_type": "code",
   "execution_count": 42,
   "id": "972d0c62",
   "metadata": {
    "scrolled": false
   },
   "outputs": [
    {
     "data": {
      "text/html": [
       "<div>\n",
       "<style scoped>\n",
       "    .dataframe tbody tr th:only-of-type {\n",
       "        vertical-align: middle;\n",
       "    }\n",
       "\n",
       "    .dataframe tbody tr th {\n",
       "        vertical-align: top;\n",
       "    }\n",
       "\n",
       "    .dataframe thead th {\n",
       "        text-align: right;\n",
       "    }\n",
       "</style>\n",
       "<table border=\"1\" class=\"dataframe\">\n",
       "  <thead>\n",
       "    <tr style=\"text-align: right;\">\n",
       "      <th></th>\n",
       "      <th>epochs</th>\n",
       "      <th>val_f1</th>\n",
       "    </tr>\n",
       "  </thead>\n",
       "  <tbody>\n",
       "    <tr>\n",
       "      <th>0</th>\n",
       "      <td>1</td>\n",
       "      <td>0.207485</td>\n",
       "    </tr>\n",
       "    <tr>\n",
       "      <th>1</th>\n",
       "      <td>2</td>\n",
       "      <td>0.731389</td>\n",
       "    </tr>\n",
       "    <tr>\n",
       "      <th>2</th>\n",
       "      <td>3</td>\n",
       "      <td>0.775785</td>\n",
       "    </tr>\n",
       "    <tr>\n",
       "      <th>3</th>\n",
       "      <td>4</td>\n",
       "      <td>0.791470</td>\n",
       "    </tr>\n",
       "    <tr>\n",
       "      <th>4</th>\n",
       "      <td>5</td>\n",
       "      <td>0.810525</td>\n",
       "    </tr>\n",
       "    <tr>\n",
       "      <th>5</th>\n",
       "      <td>6</td>\n",
       "      <td>0.812620</td>\n",
       "    </tr>\n",
       "    <tr>\n",
       "      <th>6</th>\n",
       "      <td>7</td>\n",
       "      <td>0.815530</td>\n",
       "    </tr>\n",
       "    <tr>\n",
       "      <th>7</th>\n",
       "      <td>8</td>\n",
       "      <td>0.815661</td>\n",
       "    </tr>\n",
       "    <tr>\n",
       "      <th>8</th>\n",
       "      <td>9</td>\n",
       "      <td>0.827038</td>\n",
       "    </tr>\n",
       "    <tr>\n",
       "      <th>9</th>\n",
       "      <td>10</td>\n",
       "      <td>0.831934</td>\n",
       "    </tr>\n",
       "    <tr>\n",
       "      <th>10</th>\n",
       "      <td>11</td>\n",
       "      <td>0.827268</td>\n",
       "    </tr>\n",
       "    <tr>\n",
       "      <th>11</th>\n",
       "      <td>12</td>\n",
       "      <td>0.822454</td>\n",
       "    </tr>\n",
       "    <tr>\n",
       "      <th>12</th>\n",
       "      <td>13</td>\n",
       "      <td>0.830802</td>\n",
       "    </tr>\n",
       "    <tr>\n",
       "      <th>13</th>\n",
       "      <td>14</td>\n",
       "      <td>0.823529</td>\n",
       "    </tr>\n",
       "    <tr>\n",
       "      <th>14</th>\n",
       "      <td>15</td>\n",
       "      <td>0.843916</td>\n",
       "    </tr>\n",
       "    <tr>\n",
       "      <th>15</th>\n",
       "      <td>16</td>\n",
       "      <td>0.842323</td>\n",
       "    </tr>\n",
       "    <tr>\n",
       "      <th>16</th>\n",
       "      <td>17</td>\n",
       "      <td>0.844972</td>\n",
       "    </tr>\n",
       "    <tr>\n",
       "      <th>17</th>\n",
       "      <td>18</td>\n",
       "      <td>0.838640</td>\n",
       "    </tr>\n",
       "    <tr>\n",
       "      <th>18</th>\n",
       "      <td>19</td>\n",
       "      <td>0.846389</td>\n",
       "    </tr>\n",
       "    <tr>\n",
       "      <th>19</th>\n",
       "      <td>20</td>\n",
       "      <td>0.843728</td>\n",
       "    </tr>\n",
       "    <tr>\n",
       "      <th>20</th>\n",
       "      <td>21</td>\n",
       "      <td>0.845789</td>\n",
       "    </tr>\n",
       "    <tr>\n",
       "      <th>21</th>\n",
       "      <td>22</td>\n",
       "      <td>0.841813</td>\n",
       "    </tr>\n",
       "    <tr>\n",
       "      <th>22</th>\n",
       "      <td>23</td>\n",
       "      <td>0.842124</td>\n",
       "    </tr>\n",
       "    <tr>\n",
       "      <th>23</th>\n",
       "      <td>24</td>\n",
       "      <td>0.842209</td>\n",
       "    </tr>\n",
       "    <tr>\n",
       "      <th>24</th>\n",
       "      <td>25</td>\n",
       "      <td>0.849023</td>\n",
       "    </tr>\n",
       "    <tr>\n",
       "      <th>25</th>\n",
       "      <td>26</td>\n",
       "      <td>0.839982</td>\n",
       "    </tr>\n",
       "    <tr>\n",
       "      <th>26</th>\n",
       "      <td>27</td>\n",
       "      <td>0.845843</td>\n",
       "    </tr>\n",
       "    <tr>\n",
       "      <th>27</th>\n",
       "      <td>28</td>\n",
       "      <td>0.851091</td>\n",
       "    </tr>\n",
       "    <tr>\n",
       "      <th>28</th>\n",
       "      <td>29</td>\n",
       "      <td>0.844524</td>\n",
       "    </tr>\n",
       "    <tr>\n",
       "      <th>29</th>\n",
       "      <td>30</td>\n",
       "      <td>0.843464</td>\n",
       "    </tr>\n",
       "    <tr>\n",
       "      <th>30</th>\n",
       "      <td>31</td>\n",
       "      <td>0.843619</td>\n",
       "    </tr>\n",
       "    <tr>\n",
       "      <th>31</th>\n",
       "      <td>32</td>\n",
       "      <td>0.846010</td>\n",
       "    </tr>\n",
       "    <tr>\n",
       "      <th>32</th>\n",
       "      <td>33</td>\n",
       "      <td>0.848604</td>\n",
       "    </tr>\n",
       "    <tr>\n",
       "      <th>33</th>\n",
       "      <td>34</td>\n",
       "      <td>0.847212</td>\n",
       "    </tr>\n",
       "    <tr>\n",
       "      <th>34</th>\n",
       "      <td>35</td>\n",
       "      <td>0.849168</td>\n",
       "    </tr>\n",
       "    <tr>\n",
       "      <th>35</th>\n",
       "      <td>36</td>\n",
       "      <td>0.849386</td>\n",
       "    </tr>\n",
       "    <tr>\n",
       "      <th>36</th>\n",
       "      <td>37</td>\n",
       "      <td>0.852786</td>\n",
       "    </tr>\n",
       "    <tr>\n",
       "      <th>37</th>\n",
       "      <td>38</td>\n",
       "      <td>0.842594</td>\n",
       "    </tr>\n",
       "    <tr>\n",
       "      <th>38</th>\n",
       "      <td>39</td>\n",
       "      <td>0.846758</td>\n",
       "    </tr>\n",
       "    <tr>\n",
       "      <th>39</th>\n",
       "      <td>40</td>\n",
       "      <td>0.851015</td>\n",
       "    </tr>\n",
       "    <tr>\n",
       "      <th>40</th>\n",
       "      <td>41</td>\n",
       "      <td>0.850485</td>\n",
       "    </tr>\n",
       "    <tr>\n",
       "      <th>41</th>\n",
       "      <td>42</td>\n",
       "      <td>0.850546</td>\n",
       "    </tr>\n",
       "    <tr>\n",
       "      <th>42</th>\n",
       "      <td>43</td>\n",
       "      <td>0.845365</td>\n",
       "    </tr>\n",
       "    <tr>\n",
       "      <th>43</th>\n",
       "      <td>44</td>\n",
       "      <td>0.844017</td>\n",
       "    </tr>\n",
       "    <tr>\n",
       "      <th>44</th>\n",
       "      <td>45</td>\n",
       "      <td>0.849252</td>\n",
       "    </tr>\n",
       "    <tr>\n",
       "      <th>45</th>\n",
       "      <td>46</td>\n",
       "      <td>0.848798</td>\n",
       "    </tr>\n",
       "    <tr>\n",
       "      <th>46</th>\n",
       "      <td>47</td>\n",
       "      <td>0.852188</td>\n",
       "    </tr>\n",
       "  </tbody>\n",
       "</table>\n",
       "</div>"
      ],
      "text/plain": [
       "    epochs    val_f1\n",
       "0        1  0.207485\n",
       "1        2  0.731389\n",
       "2        3  0.775785\n",
       "3        4  0.791470\n",
       "4        5  0.810525\n",
       "5        6  0.812620\n",
       "6        7  0.815530\n",
       "7        8  0.815661\n",
       "8        9  0.827038\n",
       "9       10  0.831934\n",
       "10      11  0.827268\n",
       "11      12  0.822454\n",
       "12      13  0.830802\n",
       "13      14  0.823529\n",
       "14      15  0.843916\n",
       "15      16  0.842323\n",
       "16      17  0.844972\n",
       "17      18  0.838640\n",
       "18      19  0.846389\n",
       "19      20  0.843728\n",
       "20      21  0.845789\n",
       "21      22  0.841813\n",
       "22      23  0.842124\n",
       "23      24  0.842209\n",
       "24      25  0.849023\n",
       "25      26  0.839982\n",
       "26      27  0.845843\n",
       "27      28  0.851091\n",
       "28      29  0.844524\n",
       "29      30  0.843464\n",
       "30      31  0.843619\n",
       "31      32  0.846010\n",
       "32      33  0.848604\n",
       "33      34  0.847212\n",
       "34      35  0.849168\n",
       "35      36  0.849386\n",
       "36      37  0.852786\n",
       "37      38  0.842594\n",
       "38      39  0.846758\n",
       "39      40  0.851015\n",
       "40      41  0.850485\n",
       "41      42  0.850546\n",
       "42      43  0.845365\n",
       "43      44  0.844017\n",
       "44      45  0.849252\n",
       "45      46  0.848798\n",
       "46      47  0.852188"
      ]
     },
     "execution_count": 42,
     "metadata": {},
     "output_type": "execute_result"
    }
   ],
   "source": [
    "import pandas as pd\n",
    "\n",
    "df = pd.DataFrame(histories)\n",
    "\n",
    "df[['epochs', 'val_f1']]"
   ]
  }
 ],
 "metadata": {
  "kernelspec": {
   "display_name": "Python 3 (ipykernel)",
   "language": "python",
   "name": "python3"
  },
  "language_info": {
   "codemirror_mode": {
    "name": "ipython",
    "version": 3
   },
   "file_extension": ".py",
   "mimetype": "text/x-python",
   "name": "python",
   "nbconvert_exporter": "python",
   "pygments_lexer": "ipython3",
   "version": "3.9.15"
  }
 },
 "nbformat": 4,
 "nbformat_minor": 5
}
